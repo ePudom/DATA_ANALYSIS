{
 "cells": [
  {
   "cell_type": "code",
   "execution_count": null,
   "metadata": {},
   "outputs": [],
   "source": []
  },
  {
   "cell_type": "markdown",
   "metadata": {},
   "source": [
    "### **Insert Values into a Database**"
   ]
  },
  {
   "cell_type": "markdown",
   "metadata": {},
   "source": [
    "#### Create the database"
   ]
  },
  {
   "cell_type": "code",
   "execution_count": 1,
   "metadata": {},
   "outputs": [],
   "source": [
    "import sqlite3"
   ]
  },
  {
   "cell_type": "code",
   "execution_count": null,
   "metadata": {},
   "outputs": [],
   "source": [
    "conn = sqlite3.connect('job_search.sqlite')"
   ]
  },
  {
   "cell_type": "code",
   "execution_count": null,
   "metadata": {},
   "outputs": [],
   "source": [
    "\n",
    "cur = conn.cursor()"
   ]
  },
  {
   "cell_type": "code",
   "execution_count": null,
   "metadata": {},
   "outputs": [],
   "source": [
    "cur.execute('''\n",
    "    CREATE TABLE IF NOT EXISTS \"J\" (\n",
    "        \"id\" INTEGER NOT NULL PRIMARY KEY AUTOINCREMENT,\n",
    "        \"title\" TEXT NOT NULL,\n",
    "        \"company\" TEXT NOT NULL,\n",
    "        \"url\" TEXT NOT NULL,\n",
    "        \"company_location\" TEXT NOT NULL,\n",
    "        \"salary\" TEXT ,\n",
    "        \"time_commitment\" TEXT,\n",
    "        \"description\" TEXT,\n",
    "        \"post_date\" TEXT NOT NULL\n",
    "        \"created_date\" TEXT;\n",
    "        \n",
    "''')"
   ]
  },
  {
   "cell_type": "code",
   "execution_count": null,
   "metadata": {},
   "outputs": [],
   "source": [
    "data_ex = ()\n"
   ]
  },
  {
   "cell_type": "code",
   "execution_count": null,
   "metadata": {},
   "outputs": [],
   "source": [
    "for card in cards:\n",
    "    record = extract_data(card)\n",
    "    print(record)\n",
    "\n",
    "    cur.execute(\n",
    "        \"INSERT OR IGNORE INTO Job VALUES (?,?,?,?,?,?,?,?,?)\",\n",
    "        (record)\n",
    "    )\n",
    "    \n",
    "    conn.commit()\n",
    "\n",
    "    \n",
    "        \n",
    "\n"
   ]
  }
 ],
 "metadata": {
  "kernelspec": {
   "display_name": "dev1",
   "language": "python",
   "name": "python3"
  },
  "language_info": {
   "codemirror_mode": {
    "name": "ipython",
    "version": 3
   },
   "file_extension": ".py",
   "mimetype": "text/x-python",
   "name": "python",
   "nbconvert_exporter": "python",
   "pygments_lexer": "ipython3",
   "version": "3.11.5"
  }
 },
 "nbformat": 4,
 "nbformat_minor": 2
}
