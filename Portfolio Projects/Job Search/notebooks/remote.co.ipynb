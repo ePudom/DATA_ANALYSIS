{
 "cells": [
  {
   "cell_type": "code",
   "execution_count": 24,
   "metadata": {},
   "outputs": [],
   "source": [
    "import csv\n",
    "import requests\n",
    "from bs4 import BeautifulSoup\n",
    "from datetime import datetime\n",
    "import urllib.parse\n",
    "from dotenv import load_dotenv\n",
    "from pathlib import Path\n",
    "import os"
   ]
  },
  {
   "cell_type": "code",
   "execution_count": 25,
   "metadata": {},
   "outputs": [],
   "source": [
    "dotenv_path = Path(\"../../.env\")\n",
    "load_dotenv(dotenv_path)\n",
    "\n",
    "API_KEY = os.getenv(\"SCRAPEOPS_API_KEY\")"
   ]
  },
  {
   "cell_type": "code",
   "execution_count": 26,
   "metadata": {},
   "outputs": [],
   "source": [
    "BASE_URL = 'https://remote.co/remote-jobs'"
   ]
  },
  {
   "cell_type": "code",
   "execution_count": 27,
   "metadata": {},
   "outputs": [],
   "source": [
    "def get_url(job_title):\n",
    "    \"\"\"Generate URL based on the job title and location\"\"\"\n",
    "\n",
    "    template = BASE_URL + '/search/?search_keywords={}'\n",
    "    # location = None\n",
    "\n",
    "    url = template.format(job_title)\n",
    "    return url"
   ]
  },
  {
   "cell_type": "code",
   "execution_count": 28,
   "metadata": {},
   "outputs": [],
   "source": [
    "def get_scrapeops_url(url):\n",
    "    payload = {'api_key': API_KEY, 'url': url}\n",
    "    proxy_url = 'https://proxy.scrapeops.io/v1/?' + urllib.parse.urlencode(payload)\n",
    "    return proxy_url"
   ]
  },
  {
   "cell_type": "code",
   "execution_count": 29,
   "metadata": {},
   "outputs": [],
   "source": [
    "url = get_url('data analyst')"
   ]
  },
  {
   "cell_type": "code",
   "execution_count": 32,
   "metadata": {},
   "outputs": [
    {
     "data": {
      "text/plain": [
       "<Response [200]>"
      ]
     },
     "execution_count": 32,
     "metadata": {},
     "output_type": "execute_result"
    }
   ],
   "source": [
    "response = requests.get(url)\n",
    "response"
   ]
  },
  {
   "cell_type": "markdown",
   "metadata": {},
   "source": [
    "### Extract raw html from Indeed"
   ]
  },
  {
   "cell_type": "code",
   "execution_count": 31,
   "metadata": {},
   "outputs": [],
   "source": [
    "soup = BeautifulSoup(response.text, 'html.parser')"
   ]
  },
  {
   "cell_type": "code",
   "execution_count": 46,
   "metadata": {},
   "outputs": [],
   "source": [
    "cards = soup.find('div', 'job_listings').find_all('div', 'job-card')"
   ]
  },
  {
   "cell_type": "code",
   "execution_count": 47,
   "metadata": {},
   "outputs": [
    {
     "data": {
      "text/plain": [
       "0"
      ]
     },
     "execution_count": 47,
     "metadata": {},
     "output_type": "execute_result"
    }
   ],
   "source": [
    "len(cards)"
   ]
  },
  {
   "cell_type": "code",
   "execution_count": 45,
   "metadata": {},
   "outputs": [
    {
     "data": {
      "text/plain": [
       "[<div class=\"card bg-light mb-2\">\n",
       " <div class=\"card-body p-0\">\n",
       " <form class=\"job_filters\">\n",
       " <div class=\"search_jobs form-row align-items-center pb-0\">\n",
       " <div class=\"col\">\n",
       " <input class=\"search_keywords form-control\" id=\"search_keywords\" name=\"search_keywords\" placeholder=\"Keyword, Company Name, etc.\" type=\"text\" value=\"data analyst\"/>\n",
       " </div>\n",
       " <div class=\"col-auto\">\n",
       " <button class=\"btn btn-primary text-uppercase d-block d-md-none\" type=\"submit\"><i class=\"fas fa-search\"></i></button>\n",
       " <input class=\"btn btn-primary text-uppercase montserrat d-none d-md-block\" type=\"submit\" value=\"Search Jobs\"/>\n",
       " </div>\n",
       " </div>\n",
       " <hr class=\"mb-2\"/>\n",
       " <!--<div class=\"search_jobs form-row align-items-center pt-0\">-->\n",
       " <div class=\"search_jobs form-row align-items-center pt-0 pb-2 job_category_pills\">\n",
       " <div class=\"mobile-scrolling\">\n",
       " <div class=\"col-12\">\n",
       " <a class=\"rounded-sm mr-1 mb-1 btn-category d-inline-block\" href=\"/remote-jobs/\">All</a>\n",
       " <a class=\"rounded-sm mr-1 mb-1 btn-category d-inline-block\" href=\"/remote-jobs/accounting\">Accounting</a>\n",
       " <a class=\"rounded-sm mr-1 mb-1 btn-category d-inline-block\" href=\"/remote-jobs/customer-service\">Customer Service</a>\n",
       " <a class=\"rounded-sm mr-1 mb-1 btn-category d-inline-block\" href=\"/remote-jobs/online-data-entry\">Data Entry</a>\n",
       " <a class=\"rounded-sm mr-1 mb-1 btn-category d-inline-block\" href=\"/remote-jobs/design\">Design</a>\n",
       " <a class=\"rounded-sm mr-1 mb-1 btn-category d-inline-block\" href=\"/remote-jobs/developer\">Developer</a>\n",
       " <a class=\"rounded-sm mr-1 mb-1 btn-category d-inline-block\" href=\"/remote-jobs/online-editing\">Editing</a>\n",
       " <a class=\"rounded-sm mr-1 mb-1 btn-category d-inline-block\" href=\"/remote-jobs/healthcare\">Healthcare</a>\n",
       " <a class=\"rounded-sm mr-1 mb-1 btn-category d-inline-block\" href=\"/remote-jobs/recruiter\">HR</a>\n",
       " <a class=\"rounded-sm mr-1 mb-1 btn-category d-inline-block\" href=\"/remote-jobs/it\">IT</a>\n",
       " <a class=\"rounded-sm mr-1 mb-1 btn-category d-inline-block\" href=\"/remote-jobs/legal\">Legal</a>\n",
       " <a class=\"rounded-sm mr-1 mb-1 btn-category d-inline-block\" href=\"/remote-jobs/marketing\">Marketing</a>\n",
       " <a class=\"rounded-sm mr-1 mb-1 btn-category d-inline-block\" href=\"/remote-jobs/project-manager\">Project Manager</a>\n",
       " <a class=\"rounded-sm mr-1 mb-1 btn-category d-inline-block\" href=\"/remote-jobs/qa\">QA</a>\n",
       " <a class=\"rounded-sm mr-1 mb-1 btn-category d-inline-block\" href=\"/remote-jobs/sales\">Sales</a>\n",
       " <a class=\"rounded-sm mr-1 mb-1 btn-category d-inline-block\" href=\"/remote-jobs/online-teaching\">Teaching</a>\n",
       " <a class=\"rounded-sm mr-1 mb-1 btn-category d-inline-block\" href=\"/remote-jobs/virtual-assistant\">Virtual Assistant</a>\n",
       " <a class=\"rounded-sm mr-1 mb-1 btn-category d-inline-block\" href=\"/remote-jobs/writing\">Writing</a>\n",
       " <a class=\"rounded-sm mr-1 mb-1 btn-category d-inline-block\" href=\"/remote-jobs/other\">Other</a>\n",
       " <a aria-controls=\"jobTypes\" aria-expanded=\"false\" class=\"btn-category btn-outline-info rounded-sm mr-1 mb-1 d-inline-block toggle-job-type-buttons\" data-toggle=\"collapse\" href=\"#jobTypes\" role=\"button\"><i class=\"fas fa-plus\"></i></a>\n",
       " </div>\n",
       " </div>\n",
       " </div>\n",
       " <div class=\"collapse align-items-right mb-1 px-3\" id=\"jobTypes\">\n",
       " <div class=\"mobile-scrolling\">\n",
       " <p class=\"m-0 text-right w-100 border-top pt-2\">\n",
       " <a class=\"rounded-sm mr-1 mb-1 btn-category d-inline-block\" href=\"/full-time-remote-jobs/\">Full-time</a> <a class=\"rounded-sm mr-1 mb-1 btn-category d-inline-block\" href=\"/part-time-remote-jobs/\">Part-time</a> <a class=\"rounded-sm mr-1 mb-1 btn-category d-inline-block\" href=\"/online-freelance-jobs/\">Freelance</a> <a class=\"rounded-sm mr-1 mb-1 btn-category d-inline-block\" href=\"/entry-level-remote-jobs/\">Entry-level</a> <a class=\"rounded-sm mr-1 mb-1 btn-category d-inline-block\" href=\"/high-paying-remote-jobs/\">High-paying</a> <a class=\"rounded-sm mr-1 mb-1 btn-category d-inline-block\" href=\"/international-remote-jobs/\">International</a> </p>\n",
       " </div>\n",
       " </div>\n",
       " </form>\n",
       " </div>\n",
       " </div>,\n",
       " <div class=\"card bg-light mb-3 rounded-0\">\n",
       " <div class=\"card-body\">\n",
       " <div class=\"d-flex align-items-center mb-3\">\n",
       " <h2 class=\"text-uppercase mb-0 mr-2 raleway\" style=\"-webkit-box-flex:0;flex-grow:0;\">Search Results</h2><div style=\"background:#00a2e1;-webkit-box-flex:1;flex-grow:1;height:3px;\"></div>\n",
       " </div>\n",
       " <div class=\"card bg-light m-0\">\n",
       " <div class=\"card-body bg-white p-0\">\n",
       " <div class=\"job_listings\">\n",
       " <div class=\"text-center\">\n",
       " <div class=\"spinner-border mt-3\" role=\"status\">\n",
       " <span class=\"sr-only\">Loading...</span>\n",
       " </div>\n",
       " </div>\n",
       " </div>\n",
       " </div>\n",
       " </div>\n",
       " </div>\n",
       " </div>,\n",
       " <div class=\"card bg-light m-0\">\n",
       " <div class=\"card-body bg-white p-0\">\n",
       " <div class=\"job_listings\">\n",
       " <div class=\"text-center\">\n",
       " <div class=\"spinner-border mt-3\" role=\"status\">\n",
       " <span class=\"sr-only\">Loading...</span>\n",
       " </div>\n",
       " </div>\n",
       " </div>\n",
       " </div>\n",
       " </div>]"
      ]
     },
     "execution_count": 45,
     "metadata": {},
     "output_type": "execute_result"
    }
   ],
   "source": [
    "cards"
   ]
  },
  {
   "cell_type": "code",
   "execution_count": null,
   "metadata": {},
   "outputs": [],
   "source": []
  }
 ],
 "metadata": {
  "kernelspec": {
   "display_name": "dev1",
   "language": "python",
   "name": "python3"
  },
  "language_info": {
   "codemirror_mode": {
    "name": "ipython",
    "version": 3
   },
   "file_extension": ".py",
   "mimetype": "text/x-python",
   "name": "python",
   "nbconvert_exporter": "python",
   "pygments_lexer": "ipython3",
   "version": "3.11.5"
  }
 },
 "nbformat": 4,
 "nbformat_minor": 2
}
