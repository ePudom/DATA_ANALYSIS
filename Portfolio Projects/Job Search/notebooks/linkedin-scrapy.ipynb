{
 "cells": [
  {
   "cell_type": "markdown",
   "metadata": {},
   "source": [
    "## **Job Scrapper - LINKEDIN**"
   ]
  },
  {
   "cell_type": "code",
   "execution_count": null,
   "metadata": {},
   "outputs": [],
   "source": [
    "import csv\n",
    "import requests\n",
    "from bs4 import BeautifulSoup\n",
    "from datetime import datetime\n",
    "import urllib.parse"
   ]
  },
  {
   "cell_type": "code",
   "execution_count": null,
   "metadata": {},
   "outputs": [],
   "source": [
    "API_KEY = \"f3a2132b-8986-4975-b0d8-47d1c186e0dc\""
   ]
  },
  {
   "cell_type": "code",
   "execution_count": null,
   "metadata": {},
   "outputs": [],
   "source": [
    "BASE_URL = 'https://ng.linkedin.com'"
   ]
  },
  {
   "cell_type": "code",
   "execution_count": null,
   "metadata": {},
   "outputs": [],
   "source": [
    "def get_url(position, location):\n",
    "    template = BASE_URL + '/jobs/search?keywords={}&location={}&pageNumber=24&position=1'\n",
    "    url = template.format(position, location)\n",
    "    return url"
   ]
  },
  {
   "cell_type": "code",
   "execution_count": null,
   "metadata": {},
   "outputs": [],
   "source": [
    "def get_scrapeops_url(url):\n",
    "    payload = {'api_key': API_KEY, 'url': url}\n",
    "    proxy_url = 'https://proxy.scrapeops.io/v1/?' + urllib.parse.urlencode(payload)\n",
    "    return proxy_url"
   ]
  },
  {
   "cell_type": "code",
   "execution_count": null,
   "metadata": {},
   "outputs": [],
   "source": [
    "url = get_scrapeops_url(get_url('data analyst', 'lagos'))"
   ]
  },
  {
   "cell_type": "code",
   "execution_count": null,
   "metadata": {},
   "outputs": [],
   "source": [
    "response = requests.get(url)\n",
    "response "
   ]
  },
  {
   "cell_type": "code",
   "execution_count": null,
   "metadata": {},
   "outputs": [],
   "source": [
    "soup = BeautifulSoup(response.text, 'html.parser')"
   ]
  },
  {
   "cell_type": "code",
   "execution_count": null,
   "metadata": {},
   "outputs": [],
   "source": [
    "cards = soup.find('ul', 'jobs-search__results-list').find_all('div', 'base-card')"
   ]
  },
  {
   "cell_type": "code",
   "execution_count": null,
   "metadata": {},
   "outputs": [],
   "source": [
    "len(cards)"
   ]
  },
  {
   "cell_type": "code",
   "execution_count": null,
   "metadata": {},
   "outputs": [],
   "source": [
    "card = cards[0]\n",
    "card"
   ]
  },
  {
   "cell_type": "code",
   "execution_count": null,
   "metadata": {},
   "outputs": [],
   "source": [
    "job_url = card.find('a', 'base-card__full-link').get('href')\n",
    "job_url"
   ]
  },
  {
   "cell_type": "code",
   "execution_count": null,
   "metadata": {},
   "outputs": [],
   "source": [
    "job_title = card.find('h3', 'base-search-card__title').text.strip()\n",
    "job_title"
   ]
  },
  {
   "cell_type": "code",
   "execution_count": null,
   "metadata": {},
   "outputs": [],
   "source": [
    "company = card.find('h4', 'base-search-card__subtitle').text.strip()\n",
    "company"
   ]
  },
  {
   "cell_type": "code",
   "execution_count": null,
   "metadata": {},
   "outputs": [],
   "source": [
    "location = card.find('span', 'job-search-card__location').text.strip().split(',')\n",
    "location = (location[-2] + ', ' + location[-1]).strip()\n",
    "location"
   ]
  },
  {
   "cell_type": "code",
   "execution_count": null,
   "metadata": {},
   "outputs": [],
   "source": [
    "post_date_str = card.time.text.strip()\n",
    "post_date_str"
   ]
  },
  {
   "cell_type": "code",
   "execution_count": null,
   "metadata": {},
   "outputs": [],
   "source": [
    "post_date = card.time.get('datetime')\n",
    "post_date"
   ]
  },
  {
   "cell_type": "markdown",
   "metadata": {},
   "source": [
    "### Generalize model for a single record"
   ]
  },
  {
   "cell_type": "code",
   "execution_count": null,
   "metadata": {},
   "outputs": [],
   "source": [
    "def extract_data(card):\n",
    "    \"\"\"Extracts job record from a single record\"\"\"\n",
    "    job_url = card.find('a', 'base-card__full-link').get('href')\n",
    "\n",
    "    job_title = card.find('h3', 'base-search-card__title').text.strip()\n",
    "\n",
    "    company = card.find('h4', 'base-search-card__subtitle').text.strip()\n",
    "\n",
    "    location = card.find('span', 'job-search-card__location').text.strip().split(',')\n",
    "\n",
    "    if len(location) > 1:\n",
    "        location = (location[-2] + ', ' + location[-1]).strip()\n",
    "    else: \n",
    "        location = location[0].strip()\n",
    "        \n",
    "    post_date_str = card.time.text.strip()\n",
    "    post_date = card.time.get('datetime')\n",
    "\n",
    "    today = datetime.today().strftime('%Y-%m-%d')\n",
    "\n",
    "    record = (job_url, job_title, company, location, post_date, post_date_str, today)\n",
    "\n",
    "    return record"
   ]
  },
  {
   "cell_type": "code",
   "execution_count": null,
   "metadata": {},
   "outputs": [],
   "source": [
    "extract_data(card)"
   ]
  },
  {
   "cell_type": "code",
   "execution_count": null,
   "metadata": {},
   "outputs": [],
   "source": [
    "records = []\n",
    "\n",
    "for card in cards:\n",
    "    record = extract_data(card)\n",
    "    records.append(record)\n",
    "\n",
    "records"
   ]
  },
  {
   "cell_type": "markdown",
   "metadata": {},
   "source": [
    "### Putting it all together"
   ]
  },
  {
   "cell_type": "code",
   "execution_count": 149,
   "metadata": {},
   "outputs": [
    {
     "name": "stdout",
     "output_type": "stream",
     "text": [
      "Rerieving job data from https://ng.linkedin.com/jobs/search?keywords=data analyst&location=lagos&pageNumber=24&position=1\n",
      "Retrieved record 1\n",
      "('Data Analyst (Remote) at GoMoney', 'https://ng.linkedin.com/jobs/view/data-analyst-remote-at-gomoney-at-gomoney-3759763199?refId=LTLisuHJeUsxRcgrRGJC3A%3D%3D&trackingId=a56LUbMPGHWa6ken5vmcKQ%3D%3D&position=1&pageNum=0&trk=public_jobs_jserp-result_search-card', 'gomoney', 'Lagos State,  Nigeria', '2023-11-14', '2 weeks ago', '2023-12-04')\n",
      "Retrieved record 2\n",
      "('Data Analyst at Mopheth Nigeria Limited', 'https://ng.linkedin.com/jobs/view/data-analyst-at-mopheth-nigeria-limited-at-mopheth-nigeria-limited-3763893364?refId=LTLisuHJeUsxRcgrRGJC3A%3D%3D&trackingId=DgsouZJRRlIv1uM1TErFfg%3D%3D&position=2&pageNum=0&trk=public_jobs_jserp-result_search-card', 'Mopheth Nigeria Limited', 'Lagos State,  Nigeria', '2023-11-22', '1 week ago', '2023-12-04')\n",
      "Retrieved record 3\n",
      "('Data Analyst at BrandRegimen SFS Limited', 'https://ng.linkedin.com/jobs/view/data-analyst-at-brandregimen-sfs-limited-at-brandregimen-sfs-limited-3733068420?refId=LTLisuHJeUsxRcgrRGJC3A%3D%3D&trackingId=ZIWvH%2FAXGL7VY0Oj%2FMBgaw%3D%3D&position=3&pageNum=0&trk=public_jobs_jserp-result_search-card', 'BrandRegimen sfs Limited', 'Lagos State,  Nigeria', '2023-10-13', '1 month ago', '2023-12-04')\n",
      "Retrieved record 4\n",
      "('Data Analyst at BOGO Beverages Limited – 2 Openings', 'https://ng.linkedin.com/jobs/view/data-analyst-at-bogo-beverages-limited-%E2%80%93-2-openings-at-bogo-beverages-3721196482?refId=LTLisuHJeUsxRcgrRGJC3A%3D%3D&trackingId=cJ7zTleeyMwd9jmakEtr%2BA%3D%3D&position=4&pageNum=0&trk=public_jobs_jserp-result_search-card', 'BOGO Beverages', 'Lagos State,  Nigeria', '2023-09-22', '2 months ago', '2023-12-04')\n",
      "Retrieved record 5\n",
      "('Data Analyst at ipNX Nigeria Limited', 'https://ng.linkedin.com/jobs/view/data-analyst-at-ipnx-nigeria-limited-at-ipnx-nigeria-limited-3755090672?refId=LTLisuHJeUsxRcgrRGJC3A%3D%3D&trackingId=JIvi%2Bx8Q1gI6au%2FjexbtnQ%3D%3D&position=5&pageNum=0&trk=public_jobs_jserp-result_search-card', 'ipNX Nigeria Limited', 'Lagos State,  Nigeria', '2023-11-08', '3 weeks ago', '2023-12-04')\n",
      "Retrieved record 6\n",
      "('HR Data Analyst at Tastee Fried Chicken', 'https://ng.linkedin.com/jobs/view/hr-data-analyst-at-tastee-fried-chicken-at-tastee-fried-chicken-3748186741?refId=LTLisuHJeUsxRcgrRGJC3A%3D%3D&trackingId=Vv2JvZMKKc0M%2FddToR051Q%3D%3D&position=6&pageNum=0&trk=public_jobs_jserp-result_search-card', 'Tastee Fried Chicken', 'Lagos State,  Nigeria', '2023-11-02', '1 month ago', '2023-12-04')\n",
      "Retrieved record 7\n",
      "('Financial Data Analyst (Remote) at Moniepoint Inc. (Formerly TeamApt Inc.)', 'https://ng.linkedin.com/jobs/view/financial-data-analyst-remote-at-moniepoint-inc-formerly-teamapt-inc-at-moniepoint-group-3770140936?refId=LTLisuHJeUsxRcgrRGJC3A%3D%3D&trackingId=k3fQcFa3js1yTtIc7LzDhQ%3D%3D&position=7&pageNum=0&trk=public_jobs_jserp-result_search-card', 'Moniepoint Group', 'Lagos State,  Nigeria', '2023-12-01', '3 days ago', '2023-12-04')\n",
      "Retrieved record 8\n",
      "('Commercial Data Analyst at Seven-Up Bottling Company Limited', 'https://ng.linkedin.com/jobs/view/commercial-data-analyst-at-seven-up-bottling-company-limited-at-seven-up-bottling-company-3676887271?refId=LTLisuHJeUsxRcgrRGJC3A%3D%3D&trackingId=unCONOwYu1jyc2muugn6jg%3D%3D&position=9&pageNum=0&trk=public_jobs_jserp-result_search-card', 'Seven Up Bottling Company', 'Lagos State,  Nigeria', '2023-07-12', '4 months ago', '2023-12-04')\n",
      "Retrieved record 9\n",
      "('HR Data Analyst', 'https://ng.linkedin.com/jobs/view/hr-data-analyst-at-babban-gona-3770670262?refId=LTLisuHJeUsxRcgrRGJC3A%3D%3D&trackingId=wyE11M%2BffP0gR%2FI44LmGHg%3D%3D&position=10&pageNum=0&trk=public_jobs_jserp-result_search-card', 'Babban Gona', 'Lagos State,  Nigeria', '2023-11-20', '1 week ago', '2023-12-04')\n",
      "Retrieved record 10\n",
      "('Sales Data Analyst at Sunlight Resources Limited', 'https://ng.linkedin.com/jobs/view/sales-data-analyst-at-sunlight-resources-limited-at-sunlight-resources-limited-3714325789?refId=LTLisuHJeUsxRcgrRGJC3A%3D%3D&trackingId=tlQWGPCbNKdU3dPGgu0rWA%3D%3D&position=11&pageNum=0&trk=public_jobs_jserp-result_search-card', 'Sunlight Resources Limited', 'Lagos State,  Nigeria', '2023-09-15', '2 months ago', '2023-12-04')\n",
      "Retrieved record 11\n",
      "('Business Systems Junior Analyst (SUN, EAM & Asset Management) at Seplat Energy Plc', 'https://ng.linkedin.com/jobs/view/business-systems-junior-analyst-sun-eam-asset-management-at-seplat-energy-plc-at-seplat-energy-plc-3735573102?refId=LTLisuHJeUsxRcgrRGJC3A%3D%3D&trackingId=LiiCcnG9tCtR%2FgrfxvxfBg%3D%3D&position=12&pageNum=0&trk=public_jobs_jserp-result_search-card', 'Seplat Energy Plc', 'Lagos State,  Nigeria', '2023-09-20', '2 months ago', '2023-12-04')\n",
      "Retrieved record 12\n",
      "('Business Intelligence Analyst', 'https://ng.linkedin.com/jobs/view/business-intelligence-analyst-at-reliance-health-3660409094?refId=LTLisuHJeUsxRcgrRGJC3A%3D%3D&trackingId=TxQGeTiFO%2FWPUcm%2FJwqUFQ%3D%3D&position=13&pageNum=0&trk=public_jobs_jserp-result_search-card', 'Reliance Health', 'Lagos State,  Nigeria', '2023-07-10', '4 months ago', '2023-12-04')\n",
      "Retrieved record 13\n",
      "('Data Engineer', 'https://ng.linkedin.com/jobs/view/data-engineer-at-kora-3763795773?refId=LTLisuHJeUsxRcgrRGJC3A%3D%3D&trackingId=QqYrLsBx%2FU0c2vWwCCiGGA%3D%3D&position=14&pageNum=0&trk=public_jobs_jserp-result_search-card', 'Kora', 'Lagos State,  Nigeria', '2023-11-12', '3 weeks ago', '2023-12-04')\n",
      "Retrieved record 14\n",
      "('Submit CVs – Latest Recruitment at Uridium Technologies (5 Positions)', 'https://ng.linkedin.com/jobs/view/submit-cvs-%E2%80%93-latest-recruitment-at-uridium-technologies-5-positions-at-uridium-technologies-3772273844?refId=LTLisuHJeUsxRcgrRGJC3A%3D%3D&trackingId=y6ZeBd5Bv7R9Y1VgR6iXsw%3D%3D&position=16&pageNum=0&trk=public_jobs_jserp-result_search-card', 'Uridium Technologies', 'Lagos State,  Nigeria', '2023-12-02', '2 days ago', '2023-12-04')\n",
      "Retrieved record 15\n",
      "('Python Developer at CredPal', 'https://ng.linkedin.com/jobs/view/python-developer-at-credpal-at-credpal-3713408482?refId=LTLisuHJeUsxRcgrRGJC3A%3D%3D&trackingId=CJrFOERij%2BxRRv6uBDZtQA%3D%3D&position=17&pageNum=0&trk=public_jobs_jserp-result_search-card', 'CredPal', 'Lagos State,  Nigeria', '2023-08-20', '3 months ago', '2023-12-04')\n",
      "Retrieved record 16\n",
      "('Engineer, Vas Planning at 9mobile Nigeria', 'https://ng.linkedin.com/jobs/view/engineer-vas-planning-at-9mobile-nigeria-at-9mobile-3766214062?refId=LTLisuHJeUsxRcgrRGJC3A%3D%3D&trackingId=SVJ0n3comeUSNwPmj0KEpQ%3D%3D&position=18&pageNum=0&trk=public_jobs_jserp-result_search-card', '9mobile', 'Lagos State,  Nigeria', '2023-10-31', '1 month ago', '2023-12-04')\n",
      "Retrieved record 17\n",
      "('IT Business Analyst at Renmoney', 'https://ng.linkedin.com/jobs/view/it-business-analyst-at-renmoney-at-renmoney-3679020353?refId=LTLisuHJeUsxRcgrRGJC3A%3D%3D&trackingId=NuegE03NoSpBmTJD0cFBtQ%3D%3D&position=19&pageNum=0&trk=public_jobs_jserp-result_search-card', 'Renmoney', 'Lagos State,  Nigeria', '2023-07-08', '4 months ago', '2023-12-04')\n",
      "Retrieved record 18\n",
      "('Storage and Backup Systems Engineer', 'https://ng.linkedin.com/jobs/view/storage-and-backup-systems-engineer-at-scadea-solutions-inc-3774430363?refId=LTLisuHJeUsxRcgrRGJC3A%3D%3D&trackingId=2ZT5u64MfpeBA%2FSmtHy%2B%2Bg%3D%3D&position=21&pageNum=0&trk=public_jobs_jserp-result_search-card', 'Scadea Solutions, Inc.', 'Lagos State,  Nigeria', '2023-11-28', '6 days ago', '2023-12-04')\n",
      "Retrieved record 19\n",
      "('Python Engineer', 'https://ng.linkedin.com/jobs/view/python-engineer-at-canonical-3745349068?refId=LTLisuHJeUsxRcgrRGJC3A%3D%3D&trackingId=rmCAGMX4dw3lPn8QO6rYIA%3D%3D&position=22&pageNum=0&trk=public_jobs_jserp-result_search-card', 'Canonical', 'Lagos State,  Nigeria', '2023-10-24', '1 month ago', '2023-12-04')\n"
     ]
    }
   ],
   "source": [
    "import csv\n",
    "import requests\n",
    "from bs4 import BeautifulSoup\n",
    "from datetime import datetime\n",
    "import urllib.parse\n",
    "\n",
    "API_KEY = \"f3a2132b-8986-4975-b0d8-47d1c186e0dc\"\n",
    "\n",
    "BASE_URL = 'https://ng.linkedin.com'\n",
    "\n",
    "def get_scrapeops_url(url):\n",
    "    payload = {'api_key': API_KEY, 'url': url}\n",
    "    proxy_url = 'https://proxy.scrapeops.io/v1/?' + urllib.parse.urlencode(payload)\n",
    "    return proxy_url\n",
    "\n",
    "def get_url(position, location):\n",
    "    template = BASE_URL + '/jobs/search?keywords={}&location={}&pageNumber=24&position=1'\n",
    "    url = template.format(position, location)\n",
    "    return url\n",
    "\n",
    "def extract_data(card):\n",
    "    \"\"\"Extracts job record from a single record\"\"\"\n",
    "    job_url = card.find('a', 'base-card__full-link').get('href')\n",
    "\n",
    "    job_title = card.find('h3', 'base-search-card__title').text.strip()\n",
    "\n",
    "    company = card.find('h4', 'base-search-card__subtitle').text.strip()\n",
    "\n",
    "    location = card.find('span', 'job-search-card__location').text.strip().split(',')\n",
    "\n",
    "    if len(location) > 1:\n",
    "        location = (location[-2] + ', ' + location[-1]).strip()\n",
    "    else: \n",
    "        location = location[0].strip()\n",
    "        \n",
    "    post_date_str = card.time.text.strip()\n",
    "    post_date = card.time.get('datetime')\n",
    "\n",
    "    today = datetime.today().strftime('%Y-%m-%d')\n",
    "\n",
    "    record = (job_title, job_url, company, location, post_date, post_date_str, today)\n",
    "\n",
    "    return record\n",
    "\n",
    "def main(position, location):\n",
    "    \"\"\"Main function\"\"\"\n",
    "\n",
    "    records = []\n",
    "    count = 0\n",
    "\n",
    "    url = get_url(position, location)\n",
    "    proxy_url = get_scrapeops_url(url)\n",
    "\n",
    "    try:\n",
    "        r = requests.get(proxy_url)\n",
    "    \n",
    "        \n",
    "\n",
    "        print(\"Rerieving job data from\", url)\n",
    "\n",
    "        if(r.status_code != 200):\n",
    "            print(\"Error retrieving job data from \", url)\n",
    "\n",
    "        soup = BeautifulSoup(r.text, 'html.parser')\n",
    "        jobs = soup.find('ul', 'jobs-search__results-list').find_all('div', 'base-card')\n",
    "        for job in jobs:\n",
    "            count += 1\n",
    "\n",
    "            record = extract_data(job)\n",
    "            print(\"Retrieved record\", count)\n",
    "            print(record)\n",
    "            records.append(record)\n",
    "\n",
    "        with open('./data/job_data_linkedin.csv', 'a', newline='') as csvfile:\n",
    "            fieldnames = ['job_title', 'job_url', 'company', 'location', 'post_date_str', 'post_date', 'today']\n",
    "            writer = csv.writer(csvfile)\n",
    "            writer.writerow(fieldnames)\n",
    "            writer.writerows(records)\n",
    "            \n",
    "    except requests.exceptions.ConnectionError:\n",
    "        print('Connection Error')\n",
    "        quit\n",
    "\n",
    "\n",
    "main('data analyst', 'lagos')"
   ]
  },
  {
   "cell_type": "code",
   "execution_count": 147,
   "metadata": {},
   "outputs": [],
   "source": [
    "%reset -f"
   ]
  },
  {
   "cell_type": "code",
   "execution_count": null,
   "metadata": {},
   "outputs": [],
   "source": []
  }
 ],
 "metadata": {
  "kernelspec": {
   "display_name": "dev1",
   "language": "python",
   "name": "python3"
  },
  "language_info": {
   "codemirror_mode": {
    "name": "ipython",
    "version": 3
   },
   "file_extension": ".py",
   "mimetype": "text/x-python",
   "name": "python",
   "nbconvert_exporter": "python",
   "pygments_lexer": "ipython3",
   "version": "3.11.5"
  }
 },
 "nbformat": 4,
 "nbformat_minor": 2
}
